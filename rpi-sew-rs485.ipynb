{
 "cells": [
  {
   "cell_type": "code",
   "execution_count": 1,
   "metadata": {},
   "outputs": [
    {
     "name": "stdout",
     "output_type": "stream",
     "text": [
      "creating vfd with config: DEFAULT\n",
      "['Test']\n"
     ]
    }
   ],
   "source": [
    "import serial\n",
    "import os\n",
    "import configparser\n",
    "\n",
    "\n",
    "class RPI4_to_SEW:\n",
    "    def __init__(self, nodename, port, timeout=None, write_timeout=None, config_path=\"/config/config.ini\"):\n",
    "        self._nodename = nodename\n",
    "        self._config_path = config_path\n",
    "        self._inverters = []\n",
    "        self.config = configparser.ConfigParser()\n",
    "        # self.serial = serial.Serial(port=port, baudrate=9600, parity=serial.PARITY_EVEN,\n",
    "        #                            stopbits=serial.STOPBITS_ONE, timeout=timeout, write_timeout=write_timeout, exclusive=True)\n",
    "\n",
    "    def populate_vfds(self):\n",
    "        #full_path = os.path.realpath(__file__)\n",
    "        #dir_path = os.path.dirname(full_path)\n",
    "        #config_path = dir_path + self._config_path\n",
    "\n",
    "        self.config.read('')\n",
    "\n",
    "        for vfd_config in self.config:\n",
    "            sew_vfd = self.SEW_VFD(vfd_config)\n",
    "            self._inverters.append(sew_vfd)\n",
    "\n",
    "    def list_vfds(self):\n",
    "        vfd_list = []\n",
    "        for vfd in self._inverters:\n",
    "            vfd_list.append(vfd.name)\n",
    "        return vfd_list\n",
    "\n",
    "    def get_config(self):\n",
    "        return self.config\n",
    "\n",
    "    class SEW_VFD:\n",
    "        def __init__(self, config):\n",
    "            print(f'creating vfd with config: {config}')\n",
    "            self.config = config\n",
    "            self.name = 'Test'\n",
    "\n",
    "        def ramp_to_coded(self, ramp=2):\n",
    "\n",
    "            ramp = ramp * 1000\n",
    "            coded_ramp = ramp.to_bytes(2, \"big\", signed=True)\n",
    "\n",
    "            return coded_ramp\n",
    "\n",
    "        def speed_to_coded(self, speed):\n",
    "\n",
    "            speed_temp = round(speed / 0.0061)\n",
    "            print(f\"dec speed: {speed_temp}\")\n",
    "            coded_speed = speed_temp.to_bytes(2, \"big\", signed=True)\n",
    "\n",
    "            return coded_speed\n",
    "\n",
    "        def append_bcc(self, test):\n",
    "            checksum = 0\n",
    "            for el in test:\n",
    "                checksum ^= el\n",
    "\n",
    "            test.append(checksum)\n",
    "            return checksum\n",
    "\n",
    "\n",
    "rpi = RPI4_to_SEW('test', 0, 1, 1)\n",
    "rpi.populate_vfds()\n",
    "print(rpi.list_vfds())\n",
    "\n",
    "config = rpi.get_config()\n",
    "\n",
    "# start = bytearray(\n",
    "#     [\n",
    "#         0x02,\n",
    "#         0x00,\n",
    "#         0x85,\n",
    "#         0x00,\n",
    "#         0x06,\n",
    "#         coded_speed[0],\n",
    "#         coded_speed[1],\n",
    "#         coded_ramp[0],\n",
    "#         coded_ramp[1],\n",
    "#     ]\n",
    "# )\n",
    "# stop = bytearray([0x02, 0xFF, 0x85, 0x00, 0x00, 0x20, 0x00, 0x0B, 0xB8])\n",
    "\n",
    "# append_bcc(start)\n",
    "# print(start)\n",
    "\n",
    "# print(start)\n"
   ]
  },
  {
   "cell_type": "code",
   "execution_count": 2,
   "metadata": {},
   "outputs": [
    {
     "name": "stdout",
     "output_type": "stream",
     "text": [
      "0x0\n",
      "0x64\n"
     ]
    }
   ],
   "source": [
    "def tohex(val, nbits):\n",
    "  return hex((val + (1 << nbits)) % (1 << nbits))\n",
    "\n",
    "\n",
    "val = +100\n",
    "val2 = +100\n",
    "\n",
    "test1 = val.to_bytes(2, \"big\")\n",
    "test2 = val2.to_bytes(2, 'big', signed=True)\n",
    "\n",
    "for byte in test2:\n",
    "  print(hex(byte))\n"
   ]
  },
  {
   "cell_type": "code",
   "execution_count": 3,
   "metadata": {},
   "outputs": [
    {
     "name": "stdout",
     "output_type": "stream",
     "text": [
      "dec speed: -16384\n",
      "0xc0\n",
      "0x0\n"
     ]
    }
   ],
   "source": [
    "def speed_to_coded(speed):\n",
    "\n",
    "    py_clip = lambda x, l, u: l if x < l else u if x > u else x\n",
    "\n",
    "    speed_temp = round(speed / 0.0061)\n",
    "    speed_temp = py_clip(speed_temp, -16384, 16384)\n",
    "    print(f\"dec speed: {speed_temp}\")\n",
    "    coded_speed = speed_temp.to_bytes(2, \"big\", signed=True)\n",
    "\n",
    "    for byte in coded_speed:\n",
    "        print(hex(byte))\n",
    "\n",
    "speed_to_coded(-100)"
   ]
  },
  {
   "cell_type": "code",
   "execution_count": 4,
   "metadata": {},
   "outputs": [
    {
     "name": "stdout",
     "output_type": "stream",
     "text": [
      "0x0\n",
      "0x64\n"
     ]
    }
   ],
   "source": [
    "def ramp_to_coded(ramp=None):\n",
    "\n",
    "    if ramp == None:\n",
    "        raise Exception('Ramp value is empty')\n",
    "\n",
    "    temp_ramp = int(ramp * 1000)\n",
    "\n",
    "    coded_ramp = temp_ramp.to_bytes(2, \"big\", signed=True)\n",
    "\n",
    "    for byte in coded_ramp:\n",
    "        print(hex(byte))\n",
    "\n",
    "ramp_to_coded(0.1)"
   ]
  },
  {
   "cell_type": "code",
   "execution_count": 5,
   "metadata": {},
   "outputs": [
    {
     "ename": "NameError",
     "evalue": "name 'display_packet' is not defined",
     "output_type": "error",
     "traceback": [
      "\u001b[0;31m---------------------------------------------------------------------------\u001b[0m",
      "\u001b[0;31mNameError\u001b[0m                                 Traceback (most recent call last)",
      "\u001b[1;32m/home/yason/workspace/genesis_ws/rpi-sew-rs485/rpi-sew-rs485.ipynb Komórka 5\u001b[0m in \u001b[0;36m<cell line: 9>\u001b[0;34m()\u001b[0m\n\u001b[1;32m      <a href='vscode-notebook-cell://wsl%2Bubuntu/home/yason/workspace/genesis_ws/rpi-sew-rs485/rpi-sew-rs485.ipynb#W4sdnNjb2RlLXJlbW90ZQ%3D%3D?line=4'>5</a>\u001b[0m     strpacket \u001b[39m=\u001b[39m \u001b[39m'\u001b[39m\u001b[39m-\u001b[39m\u001b[39m'\u001b[39m\u001b[39m.\u001b[39mjoin(\u001b[39mhex\u001b[39m(x) \u001b[39mfor\u001b[39;00m x \u001b[39min\u001b[39;00m packet)\n\u001b[1;32m      <a href='vscode-notebook-cell://wsl%2Bubuntu/home/yason/workspace/genesis_ws/rpi-sew-rs485/rpi-sew-rs485.ipynb#W4sdnNjb2RlLXJlbW90ZQ%3D%3D?line=6'>7</a>\u001b[0m     \u001b[39mreturn\u001b[39;00m strpacket\n\u001b[0;32m----> <a href='vscode-notebook-cell://wsl%2Bubuntu/home/yason/workspace/genesis_ws/rpi-sew-rs485/rpi-sew-rs485.ipynb#W4sdnNjb2RlLXJlbW90ZQ%3D%3D?line=8'>9</a>\u001b[0m \u001b[39mprint\u001b[39m(display_packet(stop))\n",
      "\u001b[0;31mNameError\u001b[0m: name 'display_packet' is not defined"
     ]
    }
   ],
   "source": [
    "stop = bytearray([0x02, 0xFF, 0x85, 0x00, 0x00, 0x20, 0x00, 0x0B, 0xB8])  \n",
    "\n",
    "def print_packet_as_hex(packet):\n",
    "\n",
    "    strpacket = '-'.join(hex(x) for x in packet)\n",
    "   \n",
    "    return strpacket\n",
    "\n",
    "print(display_packet(stop))\n",
    "    # for hex_val in packets[0]:\n",
    "    #     print(hex(hex_val))"
   ]
  },
  {
   "cell_type": "code",
   "execution_count": null,
   "metadata": {},
   "outputs": [],
   "source": [
    "out=bytearray([0x2,0x1,0x5,0x0,0x0,0x40,0x0,0x0,0x64,0x22])\n",
    "incoming=bytearray([0x1d,0x1,0x5,0x4,0x6,0x3,0x0,0x6,0x7,0x19])"
   ]
  },
  {
   "cell_type": "code",
   "execution_count": 3,
   "metadata": {},
   "outputs": [
    {
     "name": "stdout",
     "output_type": "stream",
     "text": [
      "sender: vfd, address: 1, comm_type: 5, sw1: 1030, curr: 768, sw2: 1543, bcc: valid\n"
     ]
    }
   ],
   "source": [
    "import utils\n",
    "\n",
    "incoming=bytearray([0x1d,0x1,0x5,0x4,0x6,0x3,0x0,0x6,0x7,0x19])\n",
    "\n",
    "utils.parse_status_packet(incoming)"
   ]
  },
  {
   "cell_type": "code",
   "execution_count": null,
   "metadata": {},
   "outputs": [],
   "source": [
    "import utils\n",
    "\n",
    "cw1 = 6\n",
    "\n",
    "test = utils.ControlCommands(cw1)"
   ]
  },
  {
   "cell_type": "markdown",
   "metadata": {},
   "source": []
  }
 ],
 "metadata": {
  "kernelspec": {
   "display_name": "Python 3.8.10 64-bit",
   "language": "python",
   "name": "python3"
  },
  "language_info": {
   "codemirror_mode": {
    "name": "ipython",
    "version": 3
   },
   "file_extension": ".py",
   "mimetype": "text/x-python",
   "name": "python",
   "nbconvert_exporter": "python",
   "pygments_lexer": "ipython3",
   "version": "3.10.6"
  },
  "orig_nbformat": 4,
  "vscode": {
   "interpreter": {
    "hash": "916dbcbb3f70747c44a77c7bcd40155683ae19c65e1c03b4aa3499c5328201f1"
   }
  }
 },
 "nbformat": 4,
 "nbformat_minor": 2
}
